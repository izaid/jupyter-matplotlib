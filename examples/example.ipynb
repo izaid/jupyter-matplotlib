{
 "cells": [
  {
   "cell_type": "code",
   "execution_count": 1,
   "metadata": {
    "collapsed": true
   },
   "outputs": [],
   "source": [
    "import mplnbextension\n",
    "import matplotlib.pyplot as plt"
   ]
  },
  {
   "cell_type": "code",
   "execution_count": 2,
   "metadata": {
    "collapsed": false
   },
   "outputs": [],
   "source": [
    "plt.plot([1, 2, 3])\n",
    "plt.show()"
   ]
  }
 ],
 "metadata": {
  "kernelspec": {
   "display_name": "Python 2",
   "language": "python",
   "name": "python2"
  },
  "language_info": {
   "codemirror_mode": {
    "name": "ipython",
    "version": 2
   },
   "file_extension": ".py",
   "mimetype": "text/x-python",
   "name": "python",
   "nbconvert_exporter": "python",
   "pygments_lexer": "ipython2",
   "version": "2.7.11"
  },
  "widgets": {
   "state": {
    "3f46a3ff12394c32beffc79b8c037efd": {
     "views": []
    },
    "6e5d2731875e4cb9a8f0fe6743b5932f": {
     "views": []
    },
    "74a012e79f33401c8fa810199dcb36a2": {
     "views": []
    },
    "a8b0476952434ba5b8f296a5be382012": {
     "views": []
    },
    "ce6f25be12a441a3a4bb2195a9c47233": {
     "views": [
      {
       "cell_index": 1
      }
     ]
    },
    "d0f0690d341945b99705ca4add708d78": {
     "views": []
    },
    "db760e7462c64b41abc5a979e685ff5a": {
     "views": []
    },
    "e89e46bfe9664611aca1a8a671c70fa0": {
     "views": []
    }
   },
   "version": "1.1.1"
  }
 },
 "nbformat": 4,
 "nbformat_minor": 1
}
